{
 "cells": [
  {
   "cell_type": "code",
   "execution_count": 2,
   "metadata": {},
   "outputs": [],
   "source": [
    "import numpy as np\n",
    "import pandas as pd\n",
    "import matplotlib.pyplot as plt "
   ]
  },
  {
   "cell_type": "code",
   "execution_count": 3,
   "metadata": {},
   "outputs": [
    {
     "data": {
      "text/html": [
       "<div>\n",
       "<style scoped>\n",
       "    .dataframe tbody tr th:only-of-type {\n",
       "        vertical-align: middle;\n",
       "    }\n",
       "\n",
       "    .dataframe tbody tr th {\n",
       "        vertical-align: top;\n",
       "    }\n",
       "\n",
       "    .dataframe thead th {\n",
       "        text-align: right;\n",
       "    }\n",
       "</style>\n",
       "<table border=\"1\" class=\"dataframe\">\n",
       "  <thead>\n",
       "    <tr style=\"text-align: right;\">\n",
       "      <th></th>\n",
       "      <th>accountAgeDays</th>\n",
       "      <th>numItems</th>\n",
       "      <th>localTime</th>\n",
       "      <th>paymentMethod</th>\n",
       "      <th>paymentMethodAgeDays</th>\n",
       "      <th>label</th>\n",
       "    </tr>\n",
       "  </thead>\n",
       "  <tbody>\n",
       "    <tr>\n",
       "      <th>0</th>\n",
       "      <td>29</td>\n",
       "      <td>1</td>\n",
       "      <td>4.745402</td>\n",
       "      <td>paypal</td>\n",
       "      <td>28.204861</td>\n",
       "      <td>0</td>\n",
       "    </tr>\n",
       "    <tr>\n",
       "      <th>1</th>\n",
       "      <td>725</td>\n",
       "      <td>1</td>\n",
       "      <td>4.742303</td>\n",
       "      <td>storecredit</td>\n",
       "      <td>0.000000</td>\n",
       "      <td>0</td>\n",
       "    </tr>\n",
       "    <tr>\n",
       "      <th>2</th>\n",
       "      <td>845</td>\n",
       "      <td>1</td>\n",
       "      <td>4.921318</td>\n",
       "      <td>creditcard</td>\n",
       "      <td>0.000000</td>\n",
       "      <td>0</td>\n",
       "    </tr>\n",
       "    <tr>\n",
       "      <th>3</th>\n",
       "      <td>503</td>\n",
       "      <td>1</td>\n",
       "      <td>4.886641</td>\n",
       "      <td>creditcard</td>\n",
       "      <td>0.000000</td>\n",
       "      <td>0</td>\n",
       "    </tr>\n",
       "    <tr>\n",
       "      <th>4</th>\n",
       "      <td>2000</td>\n",
       "      <td>1</td>\n",
       "      <td>5.040929</td>\n",
       "      <td>creditcard</td>\n",
       "      <td>0.000000</td>\n",
       "      <td>0</td>\n",
       "    </tr>\n",
       "    <tr>\n",
       "      <th>...</th>\n",
       "      <td>...</td>\n",
       "      <td>...</td>\n",
       "      <td>...</td>\n",
       "      <td>...</td>\n",
       "      <td>...</td>\n",
       "      <td>...</td>\n",
       "    </tr>\n",
       "    <tr>\n",
       "      <th>39216</th>\n",
       "      <td>986</td>\n",
       "      <td>1</td>\n",
       "      <td>4.836982</td>\n",
       "      <td>creditcard</td>\n",
       "      <td>0.000000</td>\n",
       "      <td>0</td>\n",
       "    </tr>\n",
       "    <tr>\n",
       "      <th>39217</th>\n",
       "      <td>1647</td>\n",
       "      <td>1</td>\n",
       "      <td>4.876771</td>\n",
       "      <td>creditcard</td>\n",
       "      <td>377.930556</td>\n",
       "      <td>0</td>\n",
       "    </tr>\n",
       "    <tr>\n",
       "      <th>39218</th>\n",
       "      <td>1591</td>\n",
       "      <td>1</td>\n",
       "      <td>4.742303</td>\n",
       "      <td>creditcard</td>\n",
       "      <td>0.000000</td>\n",
       "      <td>0</td>\n",
       "    </tr>\n",
       "    <tr>\n",
       "      <th>39219</th>\n",
       "      <td>237</td>\n",
       "      <td>1</td>\n",
       "      <td>4.921318</td>\n",
       "      <td>creditcard</td>\n",
       "      <td>236.082639</td>\n",
       "      <td>0</td>\n",
       "    </tr>\n",
       "    <tr>\n",
       "      <th>39220</th>\n",
       "      <td>272</td>\n",
       "      <td>1</td>\n",
       "      <td>5.040929</td>\n",
       "      <td>paypal</td>\n",
       "      <td>0.000694</td>\n",
       "      <td>0</td>\n",
       "    </tr>\n",
       "  </tbody>\n",
       "</table>\n",
       "<p>39221 rows × 6 columns</p>\n",
       "</div>"
      ],
      "text/plain": [
       "       accountAgeDays  numItems  localTime paymentMethod  \\\n",
       "0                  29         1   4.745402        paypal   \n",
       "1                 725         1   4.742303   storecredit   \n",
       "2                 845         1   4.921318    creditcard   \n",
       "3                 503         1   4.886641    creditcard   \n",
       "4                2000         1   5.040929    creditcard   \n",
       "...               ...       ...        ...           ...   \n",
       "39216             986         1   4.836982    creditcard   \n",
       "39217            1647         1   4.876771    creditcard   \n",
       "39218            1591         1   4.742303    creditcard   \n",
       "39219             237         1   4.921318    creditcard   \n",
       "39220             272         1   5.040929        paypal   \n",
       "\n",
       "       paymentMethodAgeDays  label  \n",
       "0                 28.204861      0  \n",
       "1                  0.000000      0  \n",
       "2                  0.000000      0  \n",
       "3                  0.000000      0  \n",
       "4                  0.000000      0  \n",
       "...                     ...    ...  \n",
       "39216              0.000000      0  \n",
       "39217            377.930556      0  \n",
       "39218              0.000000      0  \n",
       "39219            236.082639      0  \n",
       "39220              0.000694      0  \n",
       "\n",
       "[39221 rows x 6 columns]"
      ]
     },
     "execution_count": 3,
     "metadata": {},
     "output_type": "execute_result"
    }
   ],
   "source": [
    "df=pd.read_csv(\"Fraud_detection.csv\")\n",
    "df"
   ]
  },
  {
   "cell_type": "code",
   "execution_count": 4,
   "metadata": {},
   "outputs": [
    {
     "data": {
      "image/png": "[encoded data removed]",
      "text/plain": [
       "<Figure size 432x288 with 1 Axes>"
      ]
     },
     "metadata": {},
     "output_type": "display_data"
    },
    {
     "name": "stdout",
     "output_type": "stream",
     "text": [
      "Total Number of crimes : \n",
      "  creditcard     410\n",
      "paypal         129\n",
      "storecredit     21\n",
      "Name: paymentMethod, dtype: int64\n",
      "%age of crimes :  1.427806532214885\n"
     ]
    }
   ],
   "source": [
    "filt = df[\"label\"]==1\n",
    "x_1=df[filt][\"paymentMethod\"].value_counts().index\n",
    "y_1=df[filt][\"paymentMethod\"].value_counts().values/df[filt][\"paymentMethod\"].value_counts().values.sum()*100\n",
    "plt.style.use('ggplot')\n",
    "plt.bar(x_1,y_1,color='green')\n",
    "plt.title(\"Frauds from Various Payments Methods\")\n",
    "plt.xlabel(\"Payments Method\")\n",
    "plt.ylabel(\"Number of Frauds\")\n",
    "plt.show()\n",
    "print(f\"Total Number of crimes : \\n \",df[filt][\"paymentMethod\"].value_counts())\n",
    "print(\"%age of crimes : \",df[filt][\"paymentMethod\"].value_counts().sum()/39221*100)"
   ]
  },
  {
   "cell_type": "markdown",
   "metadata": {},
   "source": [
    "From all of the transactions 1.4% of them are Fraudulent. <br>\n",
    "& More Than 70% of Frauds are commited from Credit Cards"
   ]
  },
  {
   "cell_type": "markdown",
   "metadata": {},
   "source": [
    "# Preprocessing"
   ]
  },
  {
   "cell_type": "code",
   "execution_count": 5,
   "metadata": {},
   "outputs": [],
   "source": [
    "x=df.iloc[:,:-1].values\n",
    "y=df.iloc[:,-1].values"
   ]
  },
  {
   "cell_type": "code",
   "execution_count": 6,
   "metadata": {},
   "outputs": [],
   "source": [
    "from sklearn.preprocessing import OneHotEncoder\n",
    "from sklearn.compose import ColumnTransformer\n",
    "ct=ColumnTransformer(transformers=[('encoder',OneHotEncoder(),[3])],remainder='passthrough')\n",
    "x=np.array(ct.fit_transform(x))"
   ]
  },
  {
   "cell_type": "code",
   "execution_count": 7,
   "metadata": {},
   "outputs": [],
   "source": [
    "from sklearn.model_selection import train_test_split\n",
    "x_train,x_test,y_train,y_test=train_test_split(x,y,test_size=0.3,random_state=13)"
   ]
  },
  {
   "cell_type": "code",
   "execution_count": 8,
   "metadata": {},
   "outputs": [],
   "source": [
    "from sklearn.preprocessing import StandardScaler\n",
    "ss=StandardScaler()\n",
    "x_train=ss.fit_transform(x_train)\n",
    "x_test=ss.transform(x_test)"
   ]
  },
  {
   "cell_type": "markdown",
   "metadata": {},
   "source": [
    "# logistic Regression"
   ]
  },
  {
   "cell_type": "code",
   "execution_count": 9,
   "metadata": {},
   "outputs": [
    {
     "name": "stdout",
     "output_type": "stream",
     "text": [
      "[[11605     3]\n",
      " [  159     0]]\n",
      "Accuracy Score of Logistic Regression Model is :  98.62326846264978\n",
      "K-fold(k=10) cross Validation of Logistic Regression Model is :  98.64027216664064\n"
     ]
    }
   ],
   "source": [
    "from sklearn.linear_model import LogisticRegression\n",
    "from sklearn.metrics import accuracy_score,confusion_matrix\n",
    "from sklearn.model_selection import cross_val_score\n",
    "\n",
    "log_reg = LogisticRegression(random_state=0)\n",
    "log_reg.fit(x_train,y_train)\n",
    "y_pred=log_reg.predict(x_test)\n",
    "print(confusion_matrix(y_test,y_pred))\n",
    "print(\"Accuracy Score of Logistic Regression Model is : \",accuracy_score(y_test,y_pred)*100)\n",
    "acc=cross_val_score(estimator=log_reg,X=x_test,y=y_test,cv=10)\n",
    "print(\"K-fold(k=10) cross Validation of Logistic Regression Model is : \",acc.mean()*100)\n"
   ]
  },
  {
   "cell_type": "markdown",
   "metadata": {},
   "source": [
    "<i>Not a Good Model because it predicted all the outcomes as 0 (non fraudulent)</i> "
   ]
  },
  {
   "cell_type": "markdown",
   "metadata": {},
   "source": [
    "# KNN Classification model"
   ]
  },
  {
   "cell_type": "code",
   "execution_count": 10,
   "metadata": {},
   "outputs": [
    {
     "name": "stdout",
     "output_type": "stream",
     "text": [
      "[[11587    21]\n",
      " [   13   146]]\n",
      "Accuracy Score of KNN Classification Model is :  99.71105634401292\n",
      "K-fold(k=10) cross Validation of KNN Classification Model is :  99.49860275461076\n"
     ]
    }
   ],
   "source": [
    "from sklearn.neighbors import KNeighborsClassifier\n",
    "kn_classi=KNeighborsClassifier(n_neighbors=1,metric='minkowski',p=2)\n",
    "kn_classi.fit(x_train,y_train)\n",
    "y_pred=kn_classi.predict(x_test)\n",
    "\n",
    "print(confusion_matrix(y_test,y_pred))\n",
    "print(\"Accuracy Score of KNN Classification Model is : \",accuracy_score(y_test,y_pred)*100)\n",
    "Kn_acc=cross_val_score(estimator=kn_classi,X=x_test,y=y_test,cv=10)\n",
    "print(\"K-fold(k=10) cross Validation of KNN Classification Model is : \",Kn_acc.mean()*100)"
   ]
  },
  {
   "cell_type": "markdown",
   "metadata": {},
   "source": [
    "<i>It gave 13 False Negative prediction</i>"
   ]
  },
  {
   "cell_type": "markdown",
   "metadata": {},
   "source": [
    "# SVM Classification Model"
   ]
  },
  {
   "cell_type": "code",
   "execution_count": 11,
   "metadata": {},
   "outputs": [
    {
     "name": "stdout",
     "output_type": "stream",
     "text": [
      "[[11608     0]\n",
      " [  159     0]]\n",
      "Accuracy Score of Sigmoid SVM model is : 98.64876349111923\n",
      "K-fold (k=10) score of model is :  98.6317687652801\n"
     ]
    }
   ],
   "source": [
    "from sklearn.svm import SVC \n",
    "sv_classi=SVC(kernel='poly',random_state=42)\n",
    "sv_classi.fit(x_train,y_train)\n",
    "y_pred = sv_classi.predict(x_test)\n",
    "print(confusion_matrix(y_test,y_pred))\n",
    "print(\"Accuracy Score of Sigmoid SVM model is :\",accuracy_score(y_test,y_pred)*100)\n",
    "sv_acc=cross_val_score(estimator=sv_classi,X=x_test,y=y_test,cv=10)\n",
    "print(\"K-fold (k=10) score of model is : \",sv_acc.mean()*100)"
   ]
  },
  {
   "cell_type": "markdown",
   "metadata": {},
   "source": [
    "<i>Not a Good Model because it predicted all the outcomes as 0 (non fraudulent)</i> "
   ]
  },
  {
   "cell_type": "code",
   "execution_count": 12,
   "metadata": {},
   "outputs": [
    {
     "name": "stdout",
     "output_type": "stream",
     "text": [
      "[[11608     0]\n",
      " [  159     0]]\n",
      "Accuracy Score of rbf SVM model is : 98.64876349111923\n",
      "K-fold (k=10) score of model is :  98.64876834336111\n"
     ]
    }
   ],
   "source": [
    "from sklearn.svm import SVC \n",
    "sv_class=SVC(kernel='rbf',random_state=0)\n",
    "sv_class.fit(x_train,y_train)\n",
    "y_pred = sv_class.predict(x_test)\n",
    "print(confusion_matrix(y_test,y_pred))\n",
    "print(\"Accuracy Score of rbf SVM model is :\",accuracy_score(y_test,y_pred)*100)\n",
    "sv_acci=cross_val_score(estimator=sv_class,X=x_test,y=y_test,cv=10)\n",
    "print(\"K-fold (k=10) score of model is : \",sv_acci.mean()*100)"
   ]
  },
  {
   "cell_type": "markdown",
   "metadata": {},
   "source": [
    "<i>Not a Good Model because it predicted all the outcomes as 0 (non fraudulent)</i> "
   ]
  },
  {
   "cell_type": "markdown",
   "metadata": {},
   "source": [
    "# Naive Bayes"
   ]
  },
  {
   "cell_type": "code",
   "execution_count": 13,
   "metadata": {},
   "outputs": [
    {
     "name": "stdout",
     "output_type": "stream",
     "text": [
      "[[11608     0]\n",
      " [    3   156]]\n",
      "Accuracy Score of rbf SVM model is : 99.97450497153055\n",
      "K-fold (k=10) score of model is :  99.9660152931181\n"
     ]
    }
   ],
   "source": [
    "from sklearn.naive_bayes import GaussianNB\n",
    "bay_classi=GaussianNB()\n",
    "bay_classi.fit(x_train,y_train)\n",
    "y_pred=bay_classi.predict(x_test)\n",
    "print(confusion_matrix(y_test,y_pred))\n",
    "print(\"Accuracy Score of rbf SVM model is :\",accuracy_score(y_test,y_pred)*100)\n",
    "sv_acc=cross_val_score(estimator=bay_classi,X=x_test,y=y_test,cv=10)\n",
    "print(\"K-fold (k=10) score of model is : \",sv_acc.mean()*100)"
   ]
  },
  {
   "cell_type": "markdown",
   "metadata": {},
   "source": [
    "# Decision Tree"
   ]
  },
  {
   "cell_type": "code",
   "execution_count": 16,
   "metadata": {},
   "outputs": [
    {
     "name": "stdout",
     "output_type": "stream",
     "text": [
      "[[11608     0]\n",
      " [    0   159]]\n",
      "Accuracy Score of rbf SVM model is : 100.0\n",
      "K-fold (k=10) score of model is :  100.0\n"
     ]
    }
   ],
   "source": [
    "from sklearn.tree import DecisionTreeClassifier\n",
    "tree = DecisionTreeClassifier(criterion='entropy',random_state=0)\n",
    "tree.fit(x_train,y_train)\n",
    "y_pred=tree.predict(x_test)\n",
    "print(confusion_matrix(y_test,y_pred))\n",
    "print(\"Accuracy Score of rbf SVM model is :\",accuracy_score(y_test,y_pred)*100)\n",
    "sv_ac=cross_val_score(estimator=tree,X=x_test,y=y_test,cv=10)\n",
    "print(\"K-fold (k=10) score of model is : \",sv_ac.mean()*100)"
   ]
  },
  {
   "cell_type": "markdown",
   "metadata": {},
   "source": [
    "# Random Forest \n"
   ]
  },
  {
   "cell_type": "code",
   "execution_count": 15,
   "metadata": {},
   "outputs": [
    {
     "name": "stdout",
     "output_type": "stream",
     "text": [
      "[[11608     0]\n",
      " [    0   159]]\n",
      "Accuracy Score of rbf SVM model is : 100.0\n",
      "K-fold (k=10) score of model is :  100.0\n"
     ]
    }
   ],
   "source": [
    "from sklearn.ensemble import RandomForestClassifier\n",
    "rf = RandomForestClassifier(n_estimators=3,criterion='entropy',random_state=0)\n",
    "rf.fit(x_train,y_train)\n",
    "y_pred=rf.predict(x_test)\n",
    "print(confusion_matrix(y_test,y_pred))\n",
    "print(\"Accuracy Score of rbf SVM model is :\",accuracy_score(y_test,y_pred)*100)\n",
    "sv_a=cross_val_score(estimator=rf,X=x_test,y=y_test,cv=10)\n",
    "print(\"K-fold (k=10) score of model is : \",sv_a.mean()*100)"
   ]
  },
  {
   "cell_type": "markdown",
   "metadata": {},
   "source": [
    "<h2>Thus, Decision Tree & Random Forest are the Best fit Model as they predicted our result with 100% Accuracy</h2>\n",
    "<i><u>Reason for 100% Accuracy is</u><br></i>\n",
    "<h4>\n",
    "Our Decision Tree/Random Forest model are able to divide our data based<br>\n",
    "on Entropy(Information gained) such that, they are able to generate Leaf<br>\n",
    "Nodes which contains pure segregated pairs of 0(non-fraudulent) & 1(fraudulent)\n",
    "</h4>\n"
   ]
  }
 ],
 "metadata": {
  "interpreter": {
   "hash": "34dfee18d5f4a96df9a8fcc719c91cf50e8ed50de2aa108bf45cd20982063274"
  },
  "kernelspec": {
   "display_name": "Python 3.9.7 ('base')",
   "language": "python",
   "name": "python3"
  },
  "language_info": {
   "codemirror_mode": {
    "name": "ipython",
    "version": 3
   },
   "file_extension": ".py",
   "mimetype": "text/x-python",
   "name": "python",
   "nbconvert_exporter": "python",
   "pygments_lexer": "ipython3",
   "version": "3.9.7"
  },
  "orig_nbformat": 4
 },
 "nbformat": 4,
 "nbformat_minor": 2
}
